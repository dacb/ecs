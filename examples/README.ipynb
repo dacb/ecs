{
 "cells": [
  {
   "cell_type": "code",
   "execution_count": null,
   "metadata": {
    "collapsed": true
   },
   "outputs": [],
   "source": [
    "pip install sphinx\n",
    "\n",
    "navigate to ECS_demo/\n",
    "\n",
    "touch core.py\n",
    "\n",
    "cut and paste all that code stuff below into core.py\n",
    "\n",
    "cd ../docs/\n",
    "\n",
    "sphinx-autogen index.rst\n",
    "\n",
    "make html\n",
    "\n",
    "you got an error! : pip install sphinx_rtd_theme"
   ]
  },
  {
   "cell_type": "markdown",
   "metadata": {},
   "source": [
    "# *pythonic* package development with the trimmings\n",
    "\n",
    "## Overview\n",
    "\n",
    "By the grace of open-source-dev there are several free lunches you should know of:\n",
    "\n",
    "2. [sphinx](http://www.sphinx-doc.org/en/master/)\n",
    "    1. sphinx can be a bit [finicky](https://samnicholls.net/2016/06/15/how-to-sphinx-readthedocs/). The most important feature to introduce to you to today will be \n",
    "    2. [autodocs](https://samnicholls.net/2016/06/15/how-to-sphinx-readthedocs/) where we generate documentation from just your \n",
    "    3. [docstrings](http://sphinxcontrib-napoleon.readthedocs.io/en/latest/example_google.html) super cool!\n",
    "1. [read the docs](https://readthedocs.org/)\n",
    "    1. not only is it free, but read the docs has a magnicent protocol for turning your hard-earned digital documentation to a pdf. Possibly my favorite feature I'll mention today.\n",
    "3. [travis CI](https://travis-ci.org/)\n",
    "    1. \"CI\" stands for continuous integration. These folks provide you with a free service -- up to 1 hour of CPU time on their servers to run all of your unit tests. \n",
    "4. [pypi](https://pypi.org/)\n",
    "    1. You want people using your code as fast as possible, right? \n",
    "5. [coveralls](https://coveralls.io/)\n",
    "    1. how much of that passed build is covered?!"
   ]
  },
  {
   "cell_type": "markdown",
   "metadata": {},
   "source": [
    "## Sphinx\n",
    "\n",
    "1. clone this repo. \n",
    "\n",
    "2. cd into the main directory and checkout the directory structure with tree:\n",
    "\n",
    "```\n",
    "$ tree\n",
    ".\n",
    "├── ECS_demo\n",
    "│   ├── __init__.py\n",
    "│   ├── core.py\n",
    "│   ├── data\n",
    "│   │   ├── climate_sentiment_m1.h5\n",
    "│   │   └── tweet_global_warming.csv\n",
    "│   ├── input.py\n",
    "│   ├── tests\n",
    "│   │   ├── __init__.py\n",
    "│   │   └── test_ECS_demo.py\n",
    "│   └── version.py\n",
    "├── LICENSE\n",
    "├── README.md\n",
    "├── appveyor.yml\n",
    "├── docs\n",
    "│   ├── Makefile\n",
    "│   ├── _static\n",
    "│   ├── conf.py\n",
    "│   ├── index.rst\n",
    "│   └── source\n",
    "│       ├── ECS_demo.core.rst\n",
    "│       ├── ECS_demo.rst\n",
    "│       └── ECS_demo.tests.rst\n",
    "├── examples\n",
    "│   ├── README.ipynb\n",
    "│   └── README.txt\n",
    "├── requirements.txt\n",
    "└── setup.py\n",
    "```\n",
    "\n",
    "3. We're about to find out just how busy this directory structure can be with these added open source features. But for now, the main project lives under `ECS_demo/` with `tests/` and `data/` subdirectories.\n",
    "\n",
    "4. Go ahead and inspect the contents of the core.py and test_ECS_demo.py files, in case you're interested. There's some common elements here in the package development world. `core.py` contains, well, the core code of the package. In a larger package you might have other modules living here such as `analysis.py` or `visualize.py`, depending on how you want to organize your code. For now, the `core.py` file contains four functions: `load_data, data_setup, baseline_model` and one class: `Benchmark`. You can learn more about pythonic naming conventions from the [pep8](https://www.python.org/dev/peps/pep-0008/) documentation.\n",
    "\n",
    "5. Time to get to Sphinx! cd over to the docs directory. In this tutorial, I've setup the appropriate rst files already. I haven't had excellent luck with using sphinx-quickstart or sphinx-autogen, personally. And so I will always start with a template such as this and modify the `.rst` files as needed. Suffice to say, if you are interested in creating your documentation from scratch I found this [source](https://samnicholls.net/2016/06/15/how-to-sphinx-readthedocs/) helpful.\n",
    "\n",
    "6. All you need to do is type `make html` in the `docs/` directory where your `Makefile` is sitting. and Sphinx will generate static html documents of your site.\n",
    "\n",
    "```\n",
    "$ tree -L 2\n",
    ".\n",
    "├── Makefile\n",
    "├── _build\n",
    "│   ├── doctrees\n",
    "│   └── html\n",
    "├── _static\n",
    "├── conf.py\n",
    "├── index.rst\n",
    "└── source\n",
    "    ├── ECS_demo.core.rst\n",
    "    ├── ECS_demo.rst\n",
    "    └── ECS_demo.tests.rst\n",
    "```\n",
    "\n",
    "7. Use your preferred browser to checkout your site: `open _build/html/index.html` \n",
    "\n",
    "![](demo1.png)\n",
    "\n",
    "8. If you navigate to the API you'll see how Sphinx autmoatically formats your docstrings for you, super neat!\n",
    "\n",
    "![](demo2.png)\n"
   ]
  },
  {
   "cell_type": "markdown",
   "metadata": {},
   "source": [
    "## Github Pages\n",
    "\n",
    "1. At this point we're ready to make our documentation live. Personally, my favorite method while I'm still developing a project is Github pages. This is because github allows us to directly host our statically generated files with Sphinx. As your code grows up, you'll want to migrate to something more robust like readthedocs.io. The downside of doing this initially is that readthedocs compiles your website as you push to github and little changes in your code structure or prerequisites can break the build. It's just easier to put this work off until you're at version 0.0.1.\n",
    "\n",
    "1. In your browser, navigate to the settings folder for your cloned github project and scroll down until you see Github Pages. Change the Source option to master branch /docs folder and hit save.\n",
    "\n",
    "2. Now in your local repo we're going to do a bit of a juggling act. We've been working in docs/ directory we'll want to move this sphinx stuff to its own home and make sure our statically generated files live here. So in your main directory this would like:\n",
    "```\n",
    "$ mkdir sphinx\n",
    "$ mv docs/* sphinx/\n",
    "$ mv sphinx/_build/html/* docs/\n",
    "$ tree -L 1 docs/\n",
    "├── docs\n",
    "│   ├── _sources\n",
    "│   ├── _static\n",
    "│   ├── genindex.html\n",
    "│   ├── index.html\n",
    "│   ├── objects.inv\n",
    "│   ├── py-modindex.html\n",
    "│   ├── search.html\n",
    "│   ├── searchindex.js\n",
    "│   └── source\n",
    "```\n",
    "3. by default, github uses jekyll to build its' sites. We'll want to turn this feature off since our site is already built. In the `docs/` directory simply type `touch .nojekyll`\n",
    "\n",
    "4. add/commit/push your changes. Your project is now live under the url (yourgihtubname).io/ECS"
   ]
  },
  {
   "cell_type": "markdown",
   "metadata": {},
   "source": [
    "## Travis CI\n",
    "\n",
    "1. If you haven't already, navigate over to travis-ci.org and create an account with them, then import the ECS project\n",
    "\n",
    "2. We're going to use travis to run our unit tests. Good coding practice dictates that we also check our code for readability. This is done using pep8. Locally you'll add the following into a Makefile in the main directory:\n",
    "```\n",
    "flake8: \n",
    "        @if command -v flake8 > /dev/null; then \\ \n",
    "                echo \"Running flake8\"; \\ \n",
    "                flake8 flake8 --ignore N802,N806,F401 `find . -name \\*.py | grep -v setup.py | grep -v /docs/ | grep -v /sphinx/`; \\ \n",
    "        else \\ \n",
    "                echo \"flake8 not found, please install it!\"; \\ \n",
    "                exit 1; \\ \n",
    "        fi; \n",
    "        @echo \"flake8 passed\" \n",
    "```\n",
    "Basically, we're asking flake8 to run some but not all, tests on some but not all, files. \n",
    "\n",
    "at the end of that file we'll also add:\n",
    "```\n",
    "test: \n",
    "        py.test \n",
    "```\n",
    "You can now run `make flake8` and `make test` and see that your package passes your unittests, locally.\n",
    "\n",
    "To get this up and running with travis we'll need to add a .travis."
   ]
  },
  {
   "cell_type": "code",
   "execution_count": null,
   "metadata": {
    "collapsed": true
   },
   "outputs": [],
   "source": []
  },
  {
   "cell_type": "markdown",
   "metadata": {},
   "source": [
    "## Coveralls "
   ]
  },
  {
   "cell_type": "markdown",
   "metadata": {},
   "source": [
    "## pypi \n",
    "\n",
    "1. sdist vs bdist\n",
    "2. GCP\n",
    "3. API's (twitter for one)"
   ]
  },
  {
   "cell_type": "markdown",
   "metadata": {},
   "source": [
    "Put this in core_test.py:"
   ]
  }
 ],
 "metadata": {
  "kernelspec": {
   "display_name": "Python 3",
   "language": "python",
   "name": "python3"
  },
  "language_info": {
   "codemirror_mode": {
    "name": "ipython",
    "version": 3
   },
   "file_extension": ".py",
   "mimetype": "text/x-python",
   "name": "python",
   "nbconvert_exporter": "python",
   "pygments_lexer": "ipython3",
   "version": "3.6.1"
  }
 },
 "nbformat": 4,
 "nbformat_minor": 2
}
